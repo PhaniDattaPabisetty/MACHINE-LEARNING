{
  "nbformat": 4,
  "nbformat_minor": 0,
  "metadata": {
    "colab": {
      "provenance": [],
      "authorship_tag": "ABX9TyOl888ZZn3A7A0bhqlC8FR0",
      "include_colab_link": true
    },
    "kernelspec": {
      "name": "python3",
      "display_name": "Python 3"
    },
    "language_info": {
      "name": "python"
    }
  },
  "cells": [
    {
      "cell_type": "markdown",
      "metadata": {
        "id": "view-in-github",
        "colab_type": "text"
      },
      "source": [
        "<a href=\"https://colab.research.google.com/github/PhaniDattaPabisetty/MACHINE-LEARNING-ASSIGNMENT-1/blob/main/Assignment1.ipynb\" target=\"_parent\"><img src=\"https://colab.research.google.com/assets/colab-badge.svg\" alt=\"Open In Colab\"/></a>"
      ]
    },
    {
      "cell_type": "code",
      "execution_count": null,
      "metadata": {
        "id": "8Wiwyah8atI-",
        "colab": {
          "base_uri": "https://localhost:8080/"
        },
        "outputId": "6677806d-c225-4a26-8271-2c9a35574cec"
      },
      "outputs": [
        {
          "output_type": "stream",
          "name": "stdout",
          "text": [
            "Sorted list: [19, 19, 20, 22, 24, 24, 24, 25, 25, 26]\n",
            "Minimum age = 19 Maximum age = 26\n",
            "The elements after append: [19, 19, 20, 22, 24, 24, 24, 25, 25, 26, 19, 26]\n",
            "Median: 24\n",
            "average : 22.75\n",
            "range : 7\n"
          ]
        }
      ],
      "source": [
        "# Question 1\n",
        "\n",
        "ages = [19, 22, 19, 24, 20, 25, 26, 24, 25, 24]\n",
        "sorted_ages_OfTheList = sorted(ages)\n",
        "\n",
        "#1 sorting the list and finding the minimum and maximum ages from the list\n",
        "print(\"Sorted list:\",sorted_ages_OfTheList)\n",
        "print(\"Minimum age =\",sorted_ages_OfTheList[0],\"Maximum age =\",sorted_ages_OfTheList[-1])\n",
        "minimum = sorted_ages_OfTheList[0]\n",
        "maximum = sorted_ages_OfTheList[-1]\n",
        "\n",
        "#2 Adding the minimum and maximum ages to the list\n",
        "sorted_ages_OfTheList.append(minimum)\n",
        "sorted_ages_OfTheList.append(maximum)\n",
        "\n",
        "length = len(sorted_ages_OfTheList)\n",
        "print(\"The elements after append:\",sorted_ages_OfTheList)\n",
        "\n",
        "#3 To find median age\n",
        "if length % 2 == 0 :\n",
        "  median1 = sorted_ages_OfTheList[length//2]\n",
        "  median2 = sorted_ages_OfTheList[length//2-1]\n",
        "  median = (median1+median2)//2\n",
        "  print(\"Median:\",median)\n",
        "\n",
        "else :\n",
        "    median=sorted_ages_OfTheList[length//2]\n",
        "    print(\"Median=\",median)\n",
        "\n",
        "#4 To find the average age\n",
        "#4a sum\n",
        "length = len(sorted_ages_OfTheList)\n",
        "sum = 0\n",
        "for x in range (0,length,1):\n",
        "    sum = sum+ sorted_ages_OfTheList[x]\n",
        "#4b average\n",
        "average = sum/length\n",
        "print(\"average :\", average)\n",
        "#5 finding the range \n",
        "range = sorted_ages_OfTheList[-1] - sorted_ages_OfTheList[0]\n",
        "print(\"range :\",range)---"
      ]
    },
    {
      "cell_type": "code",
      "source": [
        "# Question 2\n",
        "# Creating an empty dictionary called dog \n",
        "Dog = {}\n",
        "# Adding the elemets like  name, color, breed, legs, age to the dog dictionary\n",
        "Dog = {\"name\":None,\"color\":None,\"breed\":None,\"legs\":None,\"age\":None}\n",
        "\n",
        "#Create a student dictionary and add first_name, last_name, gender, age, marital skills, country, city and address as keys for the dictionarystatus,\n",
        "student = {\n",
        "    \n",
        "    \"first_name\":None,\n",
        "    \"last_name\":None,\n",
        "    \"gender\":None,\n",
        "    \"age\":None,\n",
        "    \"martial staus\":None,\n",
        "    \"skills\":None,\n",
        "    \"country\":None,\n",
        "    \"city\":None,\n",
        "    \"address\":None\n",
        "}\n",
        "\n",
        "#The student dictionary length\n",
        "print(\"\\nThe student dictionary length is :\",len(student))\n",
        "\n",
        "student = {\n",
        "    \"first_name\":'Phani Datta',\n",
        "    \"last_name\":'Pabisetty',\n",
        "    \"gender\":'Male',\n",
        "    \"age\":'22',\n",
        "    \"martial_status\":'Single',\n",
        "    \"skills\":['Adaptability','handling crtitical tasks'],\n",
        "    \"city\":'kansas',\n",
        "    \"address\":\"Junpier Dr\"\n",
        "\n",
        "}\n",
        "\n",
        "print(\"\\nType:\",type(student['skills']))\n",
        "#Checking the values of skills and checking the data type \n",
        "print(\"\\nThe skills :\",student.get('skills'))\n",
        "#Modify the skills values by adding one or two skills\n",
        "student['skills'].append(\"Team work\")\n",
        "print(\"\\nIn skills we are adding one extra skill:\",student.get('skills'))\n",
        "#Get the dictionary keys as a list\n",
        "print(\"\\nKeys in the student dictionary :\",student.keys())\n",
        "#Get the dictionary values as a list\n",
        "print(\"\\nValues in the student dictionary:\",student.values())\n",
        "\n",
        "\n",
        "\n",
        "\n",
        "\n",
        "\n",
        "\n",
        "\n"
      ],
      "metadata": {
        "colab": {
          "base_uri": "https://localhost:8080/"
        },
        "id": "4PG_EQKn2wJi",
        "outputId": "149a5fb1-f7a6-4d6e-95d1-fc96a90abd60"
      },
      "execution_count": null,
      "outputs": [
        {
          "output_type": "stream",
          "name": "stdout",
          "text": [
            "\n",
            "The student dictionary length is : 9\n",
            "\n",
            "Type: <class 'list'>\n",
            "\n",
            "The skills : ['Adaptability', 'handling crtitical tasks']\n",
            "\n",
            "In skills we are adding one extra skill: ['Adaptability', 'handling crtitical tasks', 'Team work']\n",
            "\n",
            "Keys in the student dictionary : dict_keys(['first_name', 'last_name', 'gender', 'age', 'martial_status', 'skills', 'city', 'address'])\n",
            "\n",
            "Values in the student dictionary: dict_values(['Phani Datta', 'Pabisetty', 'Male', '22', 'Single', ['Adaptability', 'handling crtitical tasks', 'Team work'], 'kansas', 'Junpier Dr'])\n"
          ]
        }
      ]
    },
    {
      "cell_type": "code",
      "source": [],
      "metadata": {
        "id": "1-LK2hNht4Yx"
      },
      "execution_count": null,
      "outputs": []
    },
    {
      "cell_type": "code",
      "source": [
        "#Question 3\n",
        "#Creating a tuple containing names of your sisters and your brothers\n",
        "brothers = (\"Raju\",\"Ramu\",\"Sai\")\n",
        "sisters = (\"Roja\",\"Rani\")\n",
        "#Joining the two tuples\n",
        "siblings = brothers+sisters\n",
        "print(\"\\nAdding the brothers and sisters:\",siblings)\n",
        "#How many siblings do you have\n",
        "print(\"\\nThe length of the siblings:\",len(siblings))\n",
        "print(\"Sibilings:\",siblings)\n",
        "#Adding the father_name and mother_name\n",
        "siblings = siblings + (\"Father_Venkata\",\"Mother_Sarojini\")\n",
        "\n",
        "#Updating to the family_members\n",
        "family_members = siblings\n",
        "print(\"\\nUpdating the father and mother name :\",family_members,\"\\n\" )"
      ],
      "metadata": {
        "colab": {
          "base_uri": "https://localhost:8080/"
        },
        "id": "5mjxL6gbComC",
        "outputId": "94975aa8-8bbc-48b3-9570-fa8a489c06c7"
      },
      "execution_count": 8,
      "outputs": [
        {
          "output_type": "stream",
          "name": "stdout",
          "text": [
            "\n",
            "Adding the brothers and sisters: ('Raju', 'Ramu', 'Sai', 'Roja', 'Rani')\n",
            "\n",
            "The length of the siblings: 5\n",
            "Sibilings: ('Raju', 'Ramu', 'Sai', 'Roja', 'Rani')\n",
            "\n",
            "Updating the father and mother name : ('Raju', 'Ramu', 'Sai', 'Roja', 'Rani', 'Father_Venkata', 'Mother_Sarojini') \n",
            "\n"
          ]
        }
      ]
    },
    {
      "cell_type": "code",
      "source": [
        "from posixpath import commonpath\n",
        "#Question 4\n",
        "\n",
        "it_companies = {'Facebook', 'Google', 'Microsoft', 'Apple', 'IBM', 'Oracle', 'Amazon'}\n",
        "A = {19, 22, 24, 20, 25, 26}\n",
        "B = {19, 22, 20, 25, 26, 24, 28, 27}\n",
        "age = [22, 19, 24, 25, 26, 24, 25, 24]\n",
        "\n",
        "#1 Find the length of the set it_companies\n",
        "length=len(it_companies)\n",
        "print(\"Length:\",length)\n",
        "print(\"The length of the it_companies:\",it_companies)\n",
        "\n",
        "\n",
        "#2 Adding  'Twitter' to it_companies set\n",
        "it_companies.add('Twitter')\n",
        "print(\"\\nAdding a company, it_companies:\",it_companies)\n",
        "\n",
        "#3 Inserting  multiple IT companies at once to the set it_companies\n",
        "new_companies =['infosys','TCS','wipro']\n",
        "it_companies.update(new_companies)\n",
        "print(\"\\nAdding multiple companies to the, it_companies:\",it_companies)\n",
        "\n",
        "#4 Remove one of the companies from the set it_companies\n",
        "it_companies.remove('Facebook')\n",
        "print(\"\\nAfter deleting a company for the it_coampanies set: \",it_companies)\n",
        "\n",
        "#5 What is the difference between remove and discard\n",
        "'''\n",
        "The differnce between remove and discard is if we want to delete an element \n",
        "that is not available in the set it will show an error but when it comes to discard\n",
        "it will not show any error and it doesn't disturb anything\n",
        "'''\n",
        "print(\"\\ndiscard usage\",it_companies.discard('sony'))\n",
        "\n",
        "#6 Join A and B\n",
        "C=B.union(A)\n",
        "print(\"\\nJoin the A and B, the resultant set\",C)\n",
        "\n",
        "#7 Finding the intersection A and B\n",
        "common = A.intersection(B)\n",
        "print(\"\\nIntersection set:\", common)\n",
        "\n",
        "#8 Is A subset of B\n",
        "print(\"\\nA is a subset of B (True/False):\",A.issubset(B))\n",
        "\n",
        "#9 For A and  B disjooint sets\n",
        "print(\"\\nFor A and B disjoint set (True/False): \",A.isdisjoint(B))\n",
        "\n",
        "#10 Joint A with B and B with A\n",
        "print(\"\\njoining A with B :\",A.union(B))\n",
        "print(\"joining B with A:\", B.union(A))\n",
        "\n",
        "#11What is the symmetric difference between A and B\n",
        "print(\"\\nThe symmetric diiference is:\",A.symmetric_difference(B))\n",
        "\n",
        "#12 Delete the sets completely \n",
        "del A\n",
        "del B\n",
        "\n",
        "#13What is the symmetric difference between A and B\n",
        "Set = set(age)\n",
        "print(\"\\nConvert to set\",Set)\n",
        "print(\"\\nCompare the length of the list :\",len(age),\"and set is :\",len(Set))\n",
        "\n",
        "\n",
        "\n",
        "\n",
        "\n",
        "\n",
        "\n",
        "\n"
      ],
      "metadata": {
        "colab": {
          "base_uri": "https://localhost:8080/"
        },
        "id": "MKu4XgrFHlDC",
        "outputId": "e23a2ee1-865a-4183-b1fb-3abb62699046"
      },
      "execution_count": null,
      "outputs": [
        {
          "output_type": "stream",
          "name": "stdout",
          "text": [
            "Length: 7\n",
            "The length of the it_companies: {'Amazon', 'Apple', 'IBM', 'Oracle', 'Facebook', 'Microsoft', 'Google'}\n",
            "\n",
            "Adding a company, it_companies: {'Amazon', 'Apple', 'IBM', 'Oracle', 'Facebook', 'Microsoft', 'Google', 'Twitter'}\n",
            "\n",
            "Adding multiple companies to the, it_companies: {'Amazon', 'Apple', 'IBM', 'Oracle', 'Facebook', 'Microsoft', 'TCS', 'wipro', 'Google', 'infosys', 'Twitter'}\n",
            "\n",
            "After deleting a company for the it_coampanies set:  {'Amazon', 'Apple', 'IBM', 'Oracle', 'Microsoft', 'TCS', 'wipro', 'Google', 'infosys', 'Twitter'}\n",
            "\n",
            "discard usage None\n",
            "\n",
            "Join the A and B, the resultant set {19, 20, 22, 24, 25, 26, 27, 28}\n",
            "\n",
            "Intersection set: {19, 20, 22, 24, 25, 26}\n",
            "\n",
            "A is a subset of B (True/False): True\n",
            "\n",
            "For A and B disjoint set (True/False):  False\n",
            "\n",
            "joining A with B : {19, 20, 22, 24, 25, 26, 27, 28}\n",
            "joining B with A: {19, 20, 22, 24, 25, 26, 27, 28}\n",
            "\n",
            "The symmetric diiference is: {27, 28}\n",
            "\n",
            "Convert to set {19, 22, 24, 25, 26}\n",
            "\n",
            "Compare the length of the list : 8 and set is : 5\n"
          ]
        }
      ]
    },
    {
      "cell_type": "code",
      "source": [
        "#Question 5\n",
        "import math\n",
        "\n",
        "constant = math.pi\n",
        "radius = 30 \n",
        "\n",
        "#Area of a circle\n",
        "_area_of_circle_ = constant*radius*radius\n",
        "print(\"Area:\",_area_of_circle_)\n",
        "\n",
        "#circumference of a circle\n",
        "_circum_of_circle_ = 2*constant*radius\n",
        "print(\"circumference:\",_circum_of_circle_)\n",
        "\n",
        "#calculate the area of the circle \n",
        "new_radius = float(input(\"Enter the radius value:\"))\n",
        "Area = constant*new_radius*new_radius\n",
        "\n",
        "print(\"for the radius =\",new_radius,\"\\nArea:\",Area)\n",
        "\n",
        "\n",
        " \n"
      ],
      "metadata": {
        "colab": {
          "base_uri": "https://localhost:8080/"
        },
        "id": "2gL7OI0_Uxob",
        "outputId": "b3df711c-1b36-4a2a-fb24-21f481ffe66e"
      },
      "execution_count": null,
      "outputs": [
        {
          "output_type": "stream",
          "name": "stdout",
          "text": [
            "Area: 2827.4333882308138\n",
            "circumference: 188.49555921538757\n",
            "Enter the radius value:25\n",
            "for the radius = 25.0 \n",
            "Area: 1963.4954084936207\n"
          ]
        }
      ]
    },
    {
      "cell_type": "code",
      "source": [
        "#Question 6\n",
        "\n",
        "Splitingthesentence = \"I am a teacher and I love to inspire and teach people\"\n",
        "\n",
        "#for getting the individual elements spliting the string \n",
        "Split = Splitingthesentence.split(\" \")\n",
        "sp_set = set(Split)\n",
        "print(\"Set:\",sp_set)\n",
        "print(\"Unique word:\",len(sp_set))\n",
        "\n",
        "\n",
        "\n"
      ],
      "metadata": {
        "colab": {
          "base_uri": "https://localhost:8080/"
        },
        "id": "LIu9-OOoYH_V",
        "outputId": "dc427859-4432-41a0-cf72-13fb240687a5"
      },
      "execution_count": null,
      "outputs": [
        {
          "output_type": "stream",
          "name": "stdout",
          "text": [
            "Set: {'to', 'and', 'love', 'am', 'a', 'people', 'teacher', 'I', 'inspire', 'teach'}\n",
            "Unique word: 10\n"
          ]
        }
      ]
    },
    {
      "cell_type": "code",
      "source": [
        "#Question 7\n",
        "\n",
        "print(\"Name\\tAge\\tCountry\\tCity\\nAsabeneh\\t250\\tFinland\\tHelsinki\")\n"
      ],
      "metadata": {
        "colab": {
          "base_uri": "https://localhost:8080/"
        },
        "id": "vC_-c72LL7tF",
        "outputId": "d2503c36-250d-4d27-c4b0-624675cc13c9"
      },
      "execution_count": 1,
      "outputs": [
        {
          "output_type": "stream",
          "name": "stdout",
          "text": [
            "Name\tAge\tCountry\tCity\n",
            "Asabeneh\t250\tFinland\tHelsinki\n"
          ]
        }
      ]
    },
    {
      "cell_type": "code",
      "source": [
        "#Question 8\n",
        "\n",
        "radius = 10\n",
        "area = int(3.14*radius**2)\n",
        "\n",
        "#Formatting the string\n",
        "formatted_areaofthecircle = 'The area of the circle with the radius {} is {} meter square .'.format(radius,area)\n",
        "print(formatted_areaofthecircle)"
      ],
      "metadata": {
        "colab": {
          "base_uri": "https://localhost:8080/"
        },
        "id": "fugihONwNC5x",
        "outputId": "9ee9856e-edf4-4665-b417-e6c406fe7416"
      },
      "execution_count": 3,
      "outputs": [
        {
          "output_type": "stream",
          "name": "stdout",
          "text": [
            "The area of the circle with the radius 10 is 314 meter square .\n"
          ]
        }
      ]
    },
    {
      "cell_type": "code",
      "source": [
        "#Question 9\n",
        "#Taking the input dynamically\n",
        "n = int(input('Enter the length'))\n",
        "\n",
        "#Creating two lists one for the lbs and the other one for the kgs\n",
        "list = []\n",
        "convert_list= []\n",
        "for i in range(0,n,1):\n",
        "  x = float(input('Give the value:'))\n",
        "  list.append(x)\n",
        "\n",
        "for i in range (0,n,1):\n",
        "  q = list[i] * 0.453592\n",
        "  convert_list.append(round(q,2))\n",
        "  print(\"\\nConverted to Kilograms\",convert_list)\n",
        "\n",
        "\n",
        "\n"
      ],
      "metadata": {
        "colab": {
          "base_uri": "https://localhost:8080/"
        },
        "id": "i7a2aj68OapR",
        "outputId": "40d37d52-5a7a-4509-8753-874dd9a67672"
      },
      "execution_count": 12,
      "outputs": [
        {
          "output_type": "stream",
          "name": "stdout",
          "text": [
            "Enter the length4\n",
            "Give the value:150\n",
            "Give the value:155\n",
            "Give the value:145\n",
            "Give the value:148\n",
            "\n",
            "Converted to Kilograms [68.04]\n",
            "\n",
            "Converted to Kilograms [68.04, 70.31]\n",
            "\n",
            "Converted to Kilograms [68.04, 70.31, 65.77]\n",
            "\n",
            "Converted to Kilograms [68.04, 70.31, 65.77, 67.13]\n"
          ]
        }
      ]
    }
  ]
}